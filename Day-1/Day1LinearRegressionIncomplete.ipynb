{
  "nbformat": 4,
  "nbformat_minor": 0,
  "metadata": {
    "colab": {
      "provenance": []
    },
    "kernelspec": {
      "name": "python3",
      "display_name": "Python 3"
    },
    "language_info": {
      "name": "python"
    }
  },
  "cells": [
    {
      "cell_type": "code",
      "source": [
        "!git clone https://github.com/IEEE-CISCodeCraft/Machine-Learning-Simplified.git"
      ],
      "metadata": {
        "id": "_fJLfdEpHP9d"
      },
      "execution_count": null,
      "outputs": []
    },
    {
      "cell_type": "markdown",
      "source": [
        "#Replace the <code>None</code> instances pesent in the code."
      ],
      "metadata": {
        "id": "91bMnvq8oqbp"
      }
    },
    {
      "cell_type": "code",
      "source": [
        "!cp \"/content/Machine-Learning-Simplified/Day-1/LRTestCases.py\" \"/content/\""
      ],
      "metadata": {
        "id": "6DNQ2HHJHjYZ"
      },
      "execution_count": null,
      "outputs": []
    },
    {
      "cell_type": "code",
      "source": [
        "from LRTestCases import *"
      ],
      "metadata": {
        "id": "dG5rIH8KHUOT"
      },
      "execution_count": null,
      "outputs": []
    },
    {
      "cell_type": "code",
      "execution_count": null,
      "metadata": {
        "id": "1tOdDoSwZeIE"
      },
      "outputs": [],
      "source": [
        "def error(yhat, y):\n",
        "    error = None      #Subtract y from yhat\n",
        "    return error"
      ]
    },
    {
      "cell_type": "code",
      "source": [
        "#TEST YOUR IMPLEMENTATION\n",
        "test_error_function(error)"
      ],
      "metadata": {
        "id": "D7yM32C_Xz-g"
      },
      "execution_count": null,
      "outputs": []
    },
    {
      "cell_type": "code",
      "source": [
        "def error_square(error):\n",
        "    square = None        #Square the error claculated above\n",
        "    return square"
      ],
      "metadata": {
        "id": "Nnoygph2er5y"
      },
      "execution_count": null,
      "outputs": []
    },
    {
      "cell_type": "code",
      "source": [
        "#TEST YOUR IMPLEMENTATION\n",
        "test_error_sqaure(error_square)"
      ],
      "metadata": {
        "id": "MHGCiEXJX_AR"
      },
      "execution_count": null,
      "outputs": []
    },
    {
      "cell_type": "code",
      "source": [
        "def total_squared_error(error, num):\n",
        "    total_squared_error = 0\n",
        "    for i in range(num):\n",
        "      total_squared_error = None     #Add the \"error\" to the \"total_sqared_error\"\n",
        "    return total_squared_error"
      ],
      "metadata": {
        "id": "wgwOEQK9fMqA"
      },
      "execution_count": null,
      "outputs": []
    },
    {
      "cell_type": "code",
      "source": [
        "#TEST YOUR IMPLEMENTATION\n",
        "test_total_squared_error_function(total_squared_error)"
      ],
      "metadata": {
        "id": "ilzjasT4YJAh"
      },
      "execution_count": null,
      "outputs": []
    },
    {
      "cell_type": "markdown",
      "source": [
        "$\\text{Mean Squared Error}=\\frac{1}{2*m}\\sum\\limits_{i = 0}^{m-1}(y-ŷ)^2$"
      ],
      "metadata": {
        "id": "oS7bM8mBjJ-u"
      }
    },
    {
      "cell_type": "code",
      "source": [
        "def mse(total_squared_error, num):\n",
        "    denominator = None           #Multipy num with 2\n",
        "    mse = None   #Divide \"total_sqaured_error\" by \"denominator\"\n",
        "    return num"
      ],
      "metadata": {
        "id": "Q6sFN7i2piR8"
      },
      "execution_count": null,
      "outputs": []
    },
    {
      "cell_type": "code",
      "source": [
        "#TEST YOUR IMPLEMENTATION\n",
        "test_mse_function(mse)"
      ],
      "metadata": {
        "id": "fZ816KtRYsoj"
      },
      "execution_count": null,
      "outputs": []
    },
    {
      "cell_type": "markdown",
      "source": [
        "**Finding the predicted value**"
      ],
      "metadata": {
        "id": "3Uqj2E0BlU_U"
      }
    },
    {
      "cell_type": "code",
      "source": [
        "def predicted_value(w, x, b):\n",
        "    yhat = None     #Multiply 'w' with 'x' and add 'b'\n",
        "    return yhat"
      ],
      "metadata": {
        "id": "oiwBU-fSjp5C"
      },
      "execution_count": null,
      "outputs": []
    },
    {
      "cell_type": "code",
      "source": [
        "#TEST YOUR IMPLEMENTATION\n",
        "test_predicted_value(predicted_value)"
      ],
      "metadata": {
        "id": "MXs2kadnreTF"
      },
      "execution_count": null,
      "outputs": []
    },
    {
      "cell_type": "markdown",
      "source": [
        "## Cost Function\n",
        "The equation for cost with one variable is:\n",
        "$$J(w,b) = \\frac{1}{2m} \\sum\\limits_{i = 0}^{m-1} (ŷ - y^{(i)})^2$$"
      ],
      "metadata": {
        "id": "qW9qAdiUwOrk"
      }
    },
    {
      "cell_type": "code",
      "source": [
        "def compute_cost(x, y, w, b):\n",
        "    # number of training examples\n",
        "    m = x.shape[0]\n",
        "    total_squared_error = 0\n",
        "    for i in range(m):\n",
        "        yhat = w * x[i] + b\n",
        "        error = None         #Subtract \"y[i]\" from \"yhat\"\n",
        "        squared_error = None   #Square the error\n",
        "        total_squared_error = None  #Add the \"error\" to the \"total_sqared_error\"\n",
        "    denominator = None     #Multiply m by 2\n",
        "    total_cost = None      #Divide total_cost by denominator\n",
        "    return total_cost"
      ],
      "metadata": {
        "id": "RCCqRXf-wNoI"
      },
      "execution_count": null,
      "outputs": []
    },
    {
      "cell_type": "markdown",
      "source": [
        "# Gradient Descent\n",
        "## 1. Compute Gradient\n",
        "The gradient is defined as:\n",
        "$$\n",
        "\\begin{align}\n",
        "\\frac{\\partial J(w,b)}{\\partial w}  &= \\frac{1}{m} \\sum\\limits_{i = 0}^{m-1} (ŷ - y^{(i)})x^{(i)} \\\\\n",
        "  \\frac{\\partial J(w,b)}{\\partial b}  &= \\frac{1}{m} \\sum\\limits_{i = 0}^{m-1} (ŷ - y^{(i)}) \\\\\n",
        "\\end{align}\n",
        "$$"
      ],
      "metadata": {
        "id": "OGswOCVFzR7W"
      }
    },
    {
      "cell_type": "code",
      "source": [
        "def compute_gradient(x, y, w, b):\n",
        "    # Number of training examples\n",
        "    m = x.shape[0]\n",
        "    dj_dw = 0\n",
        "    dj_db = 0\n",
        "\n",
        "    for i in range(m):\n",
        "        yhat = w * x[i] + b\n",
        "        dj_dw_i = (yhat - y[i]) * x[i]\n",
        "        dj_db_i = yhat - y[i]\n",
        "        dj_db += dj_db_i\n",
        "        dj_dw += dj_dw_i\n",
        "    dj_dw = dj_dw / m\n",
        "    dj_db = dj_db / m\n",
        "\n",
        "    return dj_dw, dj_db"
      ],
      "metadata": {
        "id": "VMBk0PnA0wK3"
      },
      "execution_count": null,
      "outputs": []
    },
    {
      "cell_type": "code",
      "source": [
        "test_compute_gradient(compute_gradient)"
      ],
      "metadata": {
        "id": "3U-qZNSFE1QK"
      },
      "execution_count": null,
      "outputs": []
    },
    {
      "cell_type": "markdown",
      "source": [
        "## 2. Update the parameters <code>num_iterations</code> times\n",
        "$$\\begin{align*} \\text{repeat}&\\text{ until convergence:} \\; \\lbrace \\newline\n",
        "\\;  w &= w -  \\alpha \\frac{\\partial J(w,b)}{\\partial w}  \\; \\newline\n",
        " b &= b -  \\alpha \\frac{\\partial J(w,b)}{\\partial b}  \\newline \\rbrace\n",
        "\\end{align*}$$\n",
        "where, parameters $w$, $b$ are updated simultaneously."
      ],
      "metadata": {
        "id": "AhWGXBq82p6P"
      }
    },
    {
      "cell_type": "code",
      "source": [
        "def gradient_descent(x, y, learning_rate, num_iterations):\n",
        "    # Initialize weights and bias\n",
        "    w = 0\n",
        "    b = 0\n",
        "    # Number of training examples\n",
        "    m = x.shape[0]\n",
        "    for _ in range(num_iterations):\n",
        "        # Compute gradients using the compute_gradient function\n",
        "        dj_dw, dj_db = compute_gradient(x, y, w, b)\n",
        "\n",
        "        # Update weights and bias\n",
        "        w = w - learning_rate * dj_dw\n",
        "        b = b - learning_rate * dj_db\n",
        "        # Compute the cost for monitoring\n",
        "        cost = compute_cost(x, y, w, b)\n",
        "        print(f'Iteration {_+1}/{num_iterations}, Cost: {cost:.6f}')\n",
        "    return w, b"
      ],
      "metadata": {
        "id": "OlNwBvu52cUv"
      },
      "execution_count": null,
      "outputs": []
    },
    {
      "cell_type": "code",
      "source": [
        "test_gradient_descent(gradient_descent, compute_cost, compute_gradient)"
      ],
      "metadata": {
        "id": "dpmvXbs4lmHO"
      },
      "execution_count": null,
      "outputs": []
    },
    {
      "cell_type": "code",
      "source": [],
      "metadata": {
        "id": "NknHm9DGGonf"
      },
      "execution_count": null,
      "outputs": []
    },
    {
      "cell_type": "markdown",
      "source": [
        "# **Project:** Melanoma Tumor Size Prediction"
      ],
      "metadata": {
        "id": "_Vb4kNxkG_Ml"
      }
    },
    {
      "cell_type": "code",
      "source": [
        "import pandas as pd\n",
        "import numpy as np\n",
        "from sklearn.linear_model import LinearRegression\n",
        "from sklearn.metrics import mean_squared_error, mean_absolute_error\n",
        "from sklearn.model_selection import train_test_split\n",
        "import seaborn as sns\n",
        "import matplotlib.pyplot as plt"
      ],
      "metadata": {
        "id": "ibTpczTtGokE"
      },
      "execution_count": null,
      "outputs": []
    },
    {
      "cell_type": "code",
      "source": [
        "#Read the dataset"
      ],
      "metadata": {
        "id": "eqAMMJ9lGohp"
      },
      "execution_count": null,
      "outputs": []
    },
    {
      "cell_type": "code",
      "source": [
        "#Display the dataset"
      ],
      "metadata": {
        "id": "Q14KncK6GofO"
      },
      "execution_count": null,
      "outputs": []
    },
    {
      "cell_type": "code",
      "source": [
        "#Gain insights of dataset"
      ],
      "metadata": {
        "id": "P9ipnJ_iKF42"
      },
      "execution_count": null,
      "outputs": []
    },
    {
      "cell_type": "code",
      "source": [
        "#Plot a graph to check linearity"
      ],
      "metadata": {
        "id": "ItVOltUuLE-T"
      },
      "execution_count": null,
      "outputs": []
    },
    {
      "cell_type": "code",
      "source": [
        "#Extract X and Y from data"
      ],
      "metadata": {
        "id": "mQ5YOGJFLE63"
      },
      "execution_count": null,
      "outputs": []
    },
    {
      "cell_type": "code",
      "source": [
        "#Train a Linear Regression Model"
      ],
      "metadata": {
        "id": "M1Jpn6TCLE4s"
      },
      "execution_count": null,
      "outputs": []
    },
    {
      "cell_type": "code",
      "source": [
        "#Evaluate the Model"
      ],
      "metadata": {
        "id": "E4sxQ9G4LE2v"
      },
      "execution_count": null,
      "outputs": []
    },
    {
      "cell_type": "code",
      "source": [
        "# Plot the data and regression line"
      ],
      "metadata": {
        "id": "F5p0Zr1_LSIP"
      },
      "execution_count": null,
      "outputs": []
    }
  ]
}